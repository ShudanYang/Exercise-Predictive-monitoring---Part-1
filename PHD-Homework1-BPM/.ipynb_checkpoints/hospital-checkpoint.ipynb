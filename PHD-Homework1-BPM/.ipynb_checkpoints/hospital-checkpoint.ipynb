{
 "cells": [
  {
   "cell_type": "code",
   "execution_count": 1,
   "id": "82fb38d8",
   "metadata": {},
   "outputs": [
    {
     "name": "stdout",
     "output_type": "stream",
     "text": [
      "          Case ID    Activity       Complete Timestamp    Variant  \\\n",
      "0       case_1153  Activity A  1970/01/01 09:00:00.000  Variant 2   \n",
      "1       case_1153  Activity B  1970/01/01 10:00:00.000  Variant 2   \n",
      "2       case_1153  Activity C  1970/01/01 11:00:00.000  Variant 2   \n",
      "3       case_1153  Activity D  1970/01/01 12:00:00.000  Variant 2   \n",
      "4       case_1153  Activity E  1970/01/01 13:00:00.000  Variant 2   \n",
      "...           ...         ...                      ...        ...   \n",
      "111363  case_3542  Activity K  1970/01/01 14:00:00.000  Variant 5   \n",
      "111364  case_3542  Activity O  1970/01/01 15:00:00.000  Variant 5   \n",
      "111365  case_3542  Activity P  1970/01/01 16:00:00.000  Variant 5   \n",
      "111366  case_3542  Activity L  1970/01/01 17:00:00.000  Variant 5   \n",
      "111367  case_3542  Activity F  1970/01/01 18:00:00.000  Variant 5   \n",
      "\n",
      "        Variant index  \n",
      "0                   2  \n",
      "1                   2  \n",
      "2                   2  \n",
      "3                   2  \n",
      "4                   2  \n",
      "...               ...  \n",
      "111363              5  \n",
      "111364              5  \n",
      "111365              5  \n",
      "111366              5  \n",
      "111367              5  \n",
      "\n",
      "[111368 rows x 5 columns]\n"
     ]
    }
   ],
   "source": [
    "import pandas as pd\n",
    "# 1.Import an event log (csv format only) as a pandas dataframe\n",
    "small = pd.read_csv('small.csv')\n",
    "print(small)"
   ]
  },
  {
   "cell_type": "code",
   "execution_count": 2,
   "id": "070fdbe5",
   "metadata": {},
   "outputs": [
    {
     "name": "stdout",
     "output_type": "stream",
     "text": [
      "           caseid    activity                       ts    Variant  \\\n",
      "0       case_1153  Activity A  1970/01/01 09:00:00.000  Variant 2   \n",
      "1       case_1153  Activity B  1970/01/01 10:00:00.000  Variant 2   \n",
      "2       case_1153  Activity C  1970/01/01 11:00:00.000  Variant 2   \n",
      "3       case_1153  Activity D  1970/01/01 12:00:00.000  Variant 2   \n",
      "4       case_1153  Activity E  1970/01/01 13:00:00.000  Variant 2   \n",
      "...           ...         ...                      ...        ...   \n",
      "111363  case_3542  Activity K  1970/01/01 14:00:00.000  Variant 5   \n",
      "111364  case_3542  Activity O  1970/01/01 15:00:00.000  Variant 5   \n",
      "111365  case_3542  Activity P  1970/01/01 16:00:00.000  Variant 5   \n",
      "111366  case_3542  Activity L  1970/01/01 17:00:00.000  Variant 5   \n",
      "111367  case_3542  Activity F  1970/01/01 18:00:00.000  Variant 5   \n",
      "\n",
      "        Variant index  \n",
      "0                   2  \n",
      "1                   2  \n",
      "2                   2  \n",
      "3                   2  \n",
      "4                   2  \n",
      "...               ...  \n",
      "111363              5  \n",
      "111364              5  \n",
      "111365              5  \n",
      "111366              5  \n",
      "111367              5  \n",
      "\n",
      "[111368 rows x 5 columns]\n"
     ]
    }
   ],
   "source": [
    "#2.Rename the attributes as “caseid, activity, ts” if names are different (ts is for timestamp!)\n",
    "small.columns = ['caseid', 'activity','ts'] + small.columns.tolist()[3:]\n",
    "#small.columns:method to get all columns in small dataframe\n",
    "#small.columns.tolist():this method converts all columns in small into a python list\n",
    "#[3:]:this is a slicing operation of python list to get some elements in the list from fourth elements to the end.\n",
    "print(small)"
   ]
  },
  {
   "cell_type": "code",
   "execution_count": 3,
   "id": "f4eb89a7",
   "metadata": {},
   "outputs": [
    {
     "name": "stdout",
     "output_type": "stream",
     "text": [
      "           caseid    activity                       ts\n",
      "0       case_1153  Activity A  1970/01/01 09:00:00.000\n",
      "1       case_1153  Activity B  1970/01/01 10:00:00.000\n",
      "2       case_1153  Activity C  1970/01/01 11:00:00.000\n",
      "3       case_1153  Activity D  1970/01/01 12:00:00.000\n",
      "4       case_1153  Activity E  1970/01/01 13:00:00.000\n",
      "...           ...         ...                      ...\n",
      "111363  case_3542  Activity K  1970/01/01 14:00:00.000\n",
      "111364  case_3542  Activity O  1970/01/01 15:00:00.000\n",
      "111365  case_3542  Activity P  1970/01/01 16:00:00.000\n",
      "111366  case_3542  Activity L  1970/01/01 17:00:00.000\n",
      "111367  case_3542  Activity F  1970/01/01 18:00:00.000\n",
      "\n",
      "[111368 rows x 3 columns]\n"
     ]
    }
   ],
   "source": [
    "#3.Create an event log (= a new dataframe) retaining only the caseid, activity and ts attributes\n",
    "small = small[['caseid', 'activity','ts']]\n",
    "print(small)"
   ]
  },
  {
   "cell_type": "code",
   "execution_count": 6,
   "id": "6fe90825",
   "metadata": {},
   "outputs": [
    {
     "name": "stdout",
     "output_type": "stream",
     "text": [
      "          caseid                                    list_ordered_ts\n",
      "0         case_0  [Activity A, Activity B, Activity C, Activity ...\n",
      "1         case_1  [Activity A, Activity B, Activity C, Activity ...\n",
      "2        case_10  [Activity A, Activity B, Activity C, Activity ...\n",
      "3       case_100  [Activity A, Activity B, Activity C, Activity ...\n",
      "4      case_1000  [Activity A, Activity B, Activity C, Activity ...\n",
      "...          ...                                                ...\n",
      "12495  case_9995  [Activity A, Activity B, Activity C, Activity ...\n",
      "12496  case_9996  [Activity A, Activity B, Activity C, Activity ...\n",
      "12497  case_9997  [Activity A, Activity B, Activity C, Activity ...\n",
      "12498  case_9998  [Activity A, Activity B, Activity C, Activity ...\n",
      "12499  case_9999  [Activity A, Activity B, Activity C, Activity ...\n",
      "\n",
      "[12500 rows x 2 columns]\n"
     ]
    }
   ],
   "source": [
    "#4.Create a new dataframe with columns caseid, list of events in a case (ordered by timestamp)\n",
    "def create_event_list(event_log):\n",
    "    event_log['ts'] = pd.to_datetime(event_log['ts'] )#convert ts into a python datetime object\n",
    "    grouped=event_log.sort_values('ts').groupby('caseid')['activity'].apply(list).reset_index()#sort and group\n",
    "    grouped.columns = ['caseid', 'list_ordered_ts']\n",
    "    return grouped\n",
    "events_small = create_event_list(small)\n",
    "print(events_small)"
   ]
  },
  {
   "cell_type": "code",
   "execution_count": 8,
   "id": "bff1ec68",
   "metadata": {},
   "outputs": [
    {
     "name": "stdout",
     "output_type": "stream",
     "text": [
      "          caseid        duration  event_number\n",
      "0         case_0 0 days 06:00:00             7\n",
      "1         case_1 0 days 08:00:00             9\n",
      "2        case_10 0 days 09:00:00            10\n",
      "3       case_100 0 days 06:00:00             7\n",
      "4      case_1000 0 days 06:00:00             7\n",
      "...          ...             ...           ...\n",
      "12495  case_9995 0 days 09:00:00            10\n",
      "12496  case_9996 0 days 06:00:00             7\n",
      "12497  case_9997 0 days 09:00:00            10\n",
      "12498  case_9998 0 days 06:00:00             7\n",
      "12499  case_9999 0 days 09:00:00            10\n",
      "\n",
      "[12500 rows x 3 columns]\n"
     ]
    }
   ],
   "source": [
    "#5.\tAugment the event log created at 4 with two new attributes: duration, event_number. duration = ts(last event in case) - ts(first event in case);Event_number: number of events in a case\n",
    "def augment_event_log(event_log):\n",
    "    event_log['ts'] = pd.to_datetime(event_log['ts'])\n",
    "    augmented_df = event_log.groupby('caseid').agg(duration=('ts', lambda x: x.max() - x.min()), event_number=('activity', 'count')).reset_index()\n",
    "    return augmented_df\n",
    "\n",
    "augmented_event_small = augment_event_log(small)\n",
    "print(augmented_event_small)"
   ]
  },
  {
   "cell_type": "code",
   "execution_count": 9,
   "id": "6b928cc6",
   "metadata": {},
   "outputs": [
    {
     "name": "stdout",
     "output_type": "stream",
     "text": [
      "           caseid        duration  event_number\n",
      "2         case_10 0 days 09:00:00            10\n",
      "5      case_10000 0 days 09:00:00            10\n",
      "7      case_10002 0 days 09:00:00            10\n",
      "8      case_10003 0 days 09:00:00            10\n",
      "9      case_10004 0 days 09:00:00            10\n",
      "...           ...             ...           ...\n",
      "12492   case_9992 0 days 09:00:00            10\n",
      "12493   case_9993 0 days 09:00:00            10\n",
      "12495   case_9995 0 days 09:00:00            10\n",
      "12497   case_9997 0 days 09:00:00            10\n",
      "12499   case_9999 0 days 09:00:00            10\n",
      "\n",
      "[7244 rows x 3 columns]            caseid        duration  event_number\n",
      "0          case_0 0 days 06:00:00             7\n",
      "3        case_100 0 days 06:00:00             7\n",
      "4       case_1000 0 days 06:00:00             7\n",
      "11     case_10006 0 days 06:00:00             7\n",
      "15      case_1001 0 days 06:00:00             7\n",
      "...           ...             ...           ...\n",
      "12484   case_9985 0 days 06:00:00             7\n",
      "12486   case_9987 0 days 06:00:00             7\n",
      "12494   case_9994 0 days 06:00:00             7\n",
      "12496   case_9996 0 days 06:00:00             7\n",
      "12498   case_9998 0 days 06:00:00             7\n",
      "\n",
      "[4188 rows x 3 columns]\n"
     ]
    }
   ],
   "source": [
    "#6.Find the longest/shortest case by duration - duration = ts(last event in case) - ts(first event in case)\n",
    "def find_extreme_cases_duration(augmented_event_log):\n",
    "    longest_case = augmented_event_log[augmented_event_log['duration'] == augmented_event_log['duration'].max()]\n",
    "    shortest_case = augmented_event_log[augmented_event_log['duration'] == augmented_event_log['duration'].min()]\n",
    "    return longest_case, shortest_case\n",
    "\n",
    "longest_case_small, shortest_case_small = find_extreme_cases_duration(augmented_event_log_small)\n",
    "print(longest_case_small, shortest_case_small)"
   ]
  },
  {
   "cell_type": "code",
   "execution_count": 10,
   "id": "d2b5e3e8",
   "metadata": {},
   "outputs": [
    {
     "name": "stdout",
     "output_type": "stream",
     "text": [
      "           caseid        duration  event_number\n",
      "2         case_10 0 days 09:00:00            10\n",
      "5      case_10000 0 days 09:00:00            10\n",
      "7      case_10002 0 days 09:00:00            10\n",
      "8      case_10003 0 days 09:00:00            10\n",
      "9      case_10004 0 days 09:00:00            10\n",
      "...           ...             ...           ...\n",
      "12492   case_9992 0 days 09:00:00            10\n",
      "12493   case_9993 0 days 09:00:00            10\n",
      "12495   case_9995 0 days 09:00:00            10\n",
      "12497   case_9997 0 days 09:00:00            10\n",
      "12499   case_9999 0 days 09:00:00            10\n",
      "\n",
      "[7244 rows x 3 columns]\n"
     ]
    }
   ],
   "source": [
    "#7.Find the longest case(s) by number of events\n",
    "def find_longest_case(augmented_event_log):\n",
    "    longest_case = augmented_event_log[augmented_event_log['event_number'] == augmented_event_log['event_number'].max()]\n",
    "    return longest_case\n",
    "\n",
    "longest_case_small = find_longest_case(augmented_event_log_small)\n",
    "print(longest_case_small)"
   ]
  },
  {
   "cell_type": "code",
   "execution_count": null,
   "id": "530b2747",
   "metadata": {},
   "outputs": [],
   "source": []
  }
 ],
 "metadata": {
  "kernelspec": {
   "display_name": "Python 3 (ipykernel)",
   "language": "python",
   "name": "python3"
  },
  "language_info": {
   "codemirror_mode": {
    "name": "ipython",
    "version": 3
   },
   "file_extension": ".py",
   "mimetype": "text/x-python",
   "name": "python",
   "nbconvert_exporter": "python",
   "pygments_lexer": "ipython3",
   "version": "3.11.5"
  }
 },
 "nbformat": 4,
 "nbformat_minor": 5
}
