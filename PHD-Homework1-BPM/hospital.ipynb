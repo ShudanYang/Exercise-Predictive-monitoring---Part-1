{
 "cells": [
  {
   "cell_type": "code",
   "execution_count": 1,
   "id": "82fb38d8",
   "metadata": {},
   "outputs": [
    {
     "name": "stdout",
     "output_type": "stream",
     "text": [
      "       Unnamed: 0 case_id activity lifecycle resource            timestamp  \\\n",
      "0               1       A      NEW  complete     ResA  2012-12-16 19:33:10   \n",
      "1               2       A      FIN  complete      NaN  2013-12-15 19:00:37   \n",
      "2               3       A  RELEASE  complete      NaN  2013-12-16 03:53:38   \n",
      "3               4       A  CODE OK  complete      NaN  2013-12-17 12:56:29   \n",
      "4               5       A   BILLED  complete     ResB  2013-12-19 03:44:31   \n",
      "...           ...     ...      ...       ...      ...                  ...   \n",
      "49946       49947     PTN      NEW  complete     ResA  2013-03-27 22:29:13   \n",
      "49947       49948     PTN      FIN  complete      NaN  2013-05-27 00:43:02   \n",
      "49948       49949     PTN  RELEASE  complete      NaN  2013-05-27 01:56:12   \n",
      "49949       49950     PTN  CODE OK  complete      NaN  2013-05-30 01:42:39   \n",
      "49950       49951     PTN   BILLED  complete     ResB  2013-08-27 13:13:01   \n",
      "\n",
      "      actorange actred blocked casetype  ... iscancelled isclosed msgcode  \\\n",
      "0           NaN    NaN   False        A  ...       False     True     NaN   \n",
      "1           NaN    NaN     NaN      NaN  ...         NaN      NaN     NaN   \n",
      "2           NaN    NaN     NaN      NaN  ...         NaN      NaN     NaN   \n",
      "3         False  False     NaN      NaN  ...         NaN      NaN     NaN   \n",
      "4           NaN    NaN     NaN      NaN  ...         NaN      NaN     NaN   \n",
      "...         ...    ...     ...      ...  ...         ...      ...     ...   \n",
      "49946       NaN    NaN   False        A  ...       False     True     NaN   \n",
      "49947       NaN    NaN     NaN      NaN  ...         NaN      NaN     NaN   \n",
      "49948       NaN    NaN     NaN      NaN  ...         NaN      NaN     NaN   \n",
      "49949     False  False     NaN      NaN  ...         NaN      NaN     NaN   \n",
      "49950       NaN    NaN     NaN      NaN  ...         NaN      NaN     NaN   \n",
      "\n",
      "      msgcount msgtype speciality        state version activity_instance_id  \\\n",
      "0          NaN     NaN          A  In progress     NaN                    1   \n",
      "1          NaN     NaN        NaN       Closed     NaN                    2   \n",
      "2          NaN     NaN        NaN     Released     NaN                    3   \n",
      "3          0.0     NaN        NaN          NaN       A                    4   \n",
      "4          NaN     NaN        NaN       Billed     NaN                    5   \n",
      "...        ...     ...        ...          ...     ...                  ...   \n",
      "49946      NaN     NaN          L  In progress     NaN                49947   \n",
      "49947      NaN     NaN        NaN       Closed     NaN                49948   \n",
      "49948      NaN     NaN        NaN     Released     NaN                49949   \n",
      "49949      0.0     NaN        NaN          NaN       B                49950   \n",
      "49950      NaN     NaN        NaN       Billed     NaN                49951   \n",
      "\n",
      "       .order  \n",
      "0           1  \n",
      "1           2  \n",
      "2           3  \n",
      "3           4  \n",
      "4           5  \n",
      "...       ...  \n",
      "49946   49947  \n",
      "49947   49948  \n",
      "49948   49949  \n",
      "49949   49950  \n",
      "49950   49951  \n",
      "\n",
      "[49951 rows x 26 columns]\n"
     ]
    }
   ],
   "source": [
    "import pandas as pd\n",
    "# 1.Import an event log (csv format only) as a pandas dataframe\n",
    "hospital = pd.read_csv('hospital_billing.csv')\n",
    "print(hospital)"
   ]
  },
  {
   "cell_type": "code",
   "execution_count": 3,
   "id": "070fdbe5",
   "metadata": {},
   "outputs": [
    {
     "name": "stdout",
     "output_type": "stream",
     "text": [
      "       Unnamed: 0 caseid activity lifecycle resource                   ts  \\\n",
      "0               1      A      NEW  complete     ResA  2012-12-16 19:33:10   \n",
      "1               2      A      FIN  complete      NaN  2013-12-15 19:00:37   \n",
      "2               3      A  RELEASE  complete      NaN  2013-12-16 03:53:38   \n",
      "3               4      A  CODE OK  complete      NaN  2013-12-17 12:56:29   \n",
      "4               5      A   BILLED  complete     ResB  2013-12-19 03:44:31   \n",
      "...           ...    ...      ...       ...      ...                  ...   \n",
      "49946       49947    PTN      NEW  complete     ResA  2013-03-27 22:29:13   \n",
      "49947       49948    PTN      FIN  complete      NaN  2013-05-27 00:43:02   \n",
      "49948       49949    PTN  RELEASE  complete      NaN  2013-05-27 01:56:12   \n",
      "49949       49950    PTN  CODE OK  complete      NaN  2013-05-30 01:42:39   \n",
      "49950       49951    PTN   BILLED  complete     ResB  2013-08-27 13:13:01   \n",
      "\n",
      "      actorange actred blocked casetype  ... iscancelled isclosed msgcode  \\\n",
      "0           NaN    NaN   False        A  ...       False     True     NaN   \n",
      "1           NaN    NaN     NaN      NaN  ...         NaN      NaN     NaN   \n",
      "2           NaN    NaN     NaN      NaN  ...         NaN      NaN     NaN   \n",
      "3         False  False     NaN      NaN  ...         NaN      NaN     NaN   \n",
      "4           NaN    NaN     NaN      NaN  ...         NaN      NaN     NaN   \n",
      "...         ...    ...     ...      ...  ...         ...      ...     ...   \n",
      "49946       NaN    NaN   False        A  ...       False     True     NaN   \n",
      "49947       NaN    NaN     NaN      NaN  ...         NaN      NaN     NaN   \n",
      "49948       NaN    NaN     NaN      NaN  ...         NaN      NaN     NaN   \n",
      "49949     False  False     NaN      NaN  ...         NaN      NaN     NaN   \n",
      "49950       NaN    NaN     NaN      NaN  ...         NaN      NaN     NaN   \n",
      "\n",
      "      msgcount msgtype speciality        state version activity_instance_id  \\\n",
      "0          NaN     NaN          A  In progress     NaN                    1   \n",
      "1          NaN     NaN        NaN       Closed     NaN                    2   \n",
      "2          NaN     NaN        NaN     Released     NaN                    3   \n",
      "3          0.0     NaN        NaN          NaN       A                    4   \n",
      "4          NaN     NaN        NaN       Billed     NaN                    5   \n",
      "...        ...     ...        ...          ...     ...                  ...   \n",
      "49946      NaN     NaN          L  In progress     NaN                49947   \n",
      "49947      NaN     NaN        NaN       Closed     NaN                49948   \n",
      "49948      NaN     NaN        NaN     Released     NaN                49949   \n",
      "49949      0.0     NaN        NaN          NaN       B                49950   \n",
      "49950      NaN     NaN        NaN       Billed     NaN                49951   \n",
      "\n",
      "       .order  \n",
      "0           1  \n",
      "1           2  \n",
      "2           3  \n",
      "3           4  \n",
      "4           5  \n",
      "...       ...  \n",
      "49946   49947  \n",
      "49947   49948  \n",
      "49948   49949  \n",
      "49949   49950  \n",
      "49950   49951  \n",
      "\n",
      "[49951 rows x 26 columns]\n"
     ]
    }
   ],
   "source": [
    "#2.Rename the attributes as “caseid, activity, ts” if names are different (ts is for timestamp!)\n",
    "hospital.rename(columns={'case_id': 'caseid', 'activity': 'activity', 'timestamp': 'ts'}, inplace=True)\n",
    "print(hospital)"
   ]
  },
  {
   "cell_type": "code",
   "execution_count": 4,
   "id": "f4eb89a7",
   "metadata": {},
   "outputs": [
    {
     "name": "stdout",
     "output_type": "stream",
     "text": [
      "      caseid activity                   ts\n",
      "0          A      NEW  2012-12-16 19:33:10\n",
      "1          A      FIN  2013-12-15 19:00:37\n",
      "2          A  RELEASE  2013-12-16 03:53:38\n",
      "3          A  CODE OK  2013-12-17 12:56:29\n",
      "4          A   BILLED  2013-12-19 03:44:31\n",
      "...      ...      ...                  ...\n",
      "49946    PTN      NEW  2013-03-27 22:29:13\n",
      "49947    PTN      FIN  2013-05-27 00:43:02\n",
      "49948    PTN  RELEASE  2013-05-27 01:56:12\n",
      "49949    PTN  CODE OK  2013-05-30 01:42:39\n",
      "49950    PTN   BILLED  2013-08-27 13:13:01\n",
      "\n",
      "[49951 rows x 3 columns]\n"
     ]
    }
   ],
   "source": [
    "#3.Create an event log (= a new dataframe) retaining only the caseid, activity and ts attributes\n",
    "hospital = hospital[['caseid', 'activity','ts']]\n",
    "print(hospital)"
   ]
  },
  {
   "cell_type": "code",
   "execution_count": 5,
   "id": "6fe90825",
   "metadata": {},
   "outputs": [
    {
     "name": "stdout",
     "output_type": "stream",
     "text": [
      "     caseid                                    list_ordered_ts\n",
      "0         A               [NEW, FIN, RELEASE, CODE OK, BILLED]\n",
      "1        AA  [NEW, CHANGE DIAGN, FIN, RELEASE, CODE OK, BIL...\n",
      "2       AAA                                              [NEW]\n",
      "3       AAB                                              [NEW]\n",
      "4       AAC  [NEW, CHANGE DIAGN, FIN, RELEASE, CODE OK, BIL...\n",
      "...     ...                                                ...\n",
      "9994    ZZI       [NEW, FIN, RELEASE, CODE OK, REOPEN, DELETE]\n",
      "9995    ZZJ                                              [NEW]\n",
      "9996    ZZK  [NEW, CHANGE DIAGN, FIN, RELEASE, CODE OK, BIL...\n",
      "9997    ZZL               [NEW, FIN, RELEASE, CODE OK, BILLED]\n",
      "9998    ZZM  [NEW, CHANGE DIAGN, FIN, RELEASE, CODE OK, BIL...\n",
      "\n",
      "[9999 rows x 2 columns]\n"
     ]
    }
   ],
   "source": [
    "#4.Create a new dataframe with columns caseid, list of events in a case (ordered by timestamp)\n",
    "def create_event_list(event_log):\n",
    "    event_log['ts'] = pd.to_datetime(event_log['ts'] )#convert ts into a python datetime object\n",
    "    grouped=event_log.sort_values('ts').groupby('caseid')['activity'].apply(list).reset_index()#sort and group\n",
    "    grouped.columns = ['caseid', 'list_ordered_ts']\n",
    "    return grouped\n",
    "events_hospital = create_event_list(hospital)\n",
    "print(events_hospital)"
   ]
  },
  {
   "cell_type": "code",
   "execution_count": 6,
   "id": "bff1ec68",
   "metadata": {},
   "outputs": [
    {
     "name": "stdout",
     "output_type": "stream",
     "text": [
      "     caseid          duration  event_number\n",
      "0         A 367 days 08:11:21             5\n",
      "1        AA 193 days 10:31:09             6\n",
      "2       AAA   0 days 00:00:00             1\n",
      "3       AAB   0 days 00:00:00             1\n",
      "4       AAC 186 days 12:20:43             6\n",
      "...     ...               ...           ...\n",
      "9994    ZZI 117 days 18:41:22             6\n",
      "9995    ZZJ   0 days 00:00:00             1\n",
      "9996    ZZK 116 days 11:07:50             6\n",
      "9997    ZZL 158 days 07:16:47             5\n",
      "9998    ZZM 158 days 10:52:19             6\n",
      "\n",
      "[9999 rows x 3 columns]\n"
     ]
    }
   ],
   "source": [
    "#5.\tAugment the event log created at 4 with two new attributes: duration, event_number. duration = ts(last event in case) - ts(first event in case);Event_number: number of events in a case\n",
    "def augment_event_log(event_log):\n",
    "    event_log['ts'] = pd.to_datetime(event_log['ts'])\n",
    "    augmented_df = event_log.groupby('caseid').agg(duration=('ts', lambda x: x.max() - x.min()), event_number=('activity', 'count')).reset_index()\n",
    "    return augmented_df\n",
    "\n",
    "augmented_event_hospital = augment_event_log(hospital)\n",
    "print(augmented_event_hospital)"
   ]
  },
  {
   "cell_type": "code",
   "execution_count": 8,
   "id": "6b928cc6",
   "metadata": {},
   "outputs": [
    {
     "name": "stdout",
     "output_type": "stream",
     "text": [
      "     caseid           duration  event_number\n",
      "2599    GTC 1035 days 10:06:32             6      caseid duration  event_number\n",
      "2       AAA   0 days             1\n",
      "3       AAB   0 days             1\n",
      "5       AAD   0 days             1\n",
      "12      AAK   0 days             1\n",
      "27      ABK   0 days             1\n",
      "...     ...      ...           ...\n",
      "9983    ZYL   0 days             1\n",
      "9985     ZZ   0 days             1\n",
      "9986    ZZA   0 days             1\n",
      "9988    ZZC   0 days             1\n",
      "9995    ZZJ   0 days             1\n",
      "\n",
      "[1836 rows x 3 columns]\n"
     ]
    }
   ],
   "source": [
    "#6.Find the longest/shortest case by duration - duration = ts(last event in case) - ts(first event in case)\n",
    "def find_extreme_cases_duration(augmented_event_log):\n",
    "    longest_case = augmented_event_log[augmented_event_log['duration'] == augmented_event_log['duration'].max()]\n",
    "    shortest_case = augmented_event_log[augmented_event_log['duration'] == augmented_event_log['duration'].min()]\n",
    "    return longest_case, shortest_case\n",
    "\n",
    "longest_case_hospital, shortest_case_hospital = find_extreme_cases_duration(augmented_event_hospital)\n",
    "print(longest_case_hospital, shortest_case_hospital)"
   ]
  },
  {
   "cell_type": "code",
   "execution_count": 10,
   "id": "d2b5e3e8",
   "metadata": {},
   "outputs": [
    {
     "name": "stdout",
     "output_type": "stream",
     "text": [
      "     caseid          duration  event_number\n",
      "4648    MBL 375 days 01:52:29           217\n"
     ]
    }
   ],
   "source": [
    "#7.Find the longest case(s) by number of events\n",
    "def find_longest_case(augmented_event_log):\n",
    "    longest_case = augmented_event_log[augmented_event_log['event_number'] == augmented_event_log['event_number'].max()]\n",
    "    return longest_case\n",
    "\n",
    "longest_case_hospital = find_longest_case(augmented_event_hospital)\n",
    "print(longest_case_hospital)"
   ]
  },
  {
   "cell_type": "code",
   "execution_count": null,
   "id": "530b2747",
   "metadata": {},
   "outputs": [],
   "source": []
  }
 ],
 "metadata": {
  "kernelspec": {
   "display_name": "Python 3 (ipykernel)",
   "language": "python",
   "name": "python3"
  },
  "language_info": {
   "codemirror_mode": {
    "name": "ipython",
    "version": 3
   },
   "file_extension": ".py",
   "mimetype": "text/x-python",
   "name": "python",
   "nbconvert_exporter": "python",
   "pygments_lexer": "ipython3",
   "version": "3.11.5"
  }
 },
 "nbformat": 4,
 "nbformat_minor": 5
}
